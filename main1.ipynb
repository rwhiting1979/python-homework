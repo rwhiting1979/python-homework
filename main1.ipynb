{
 "cells": [
  {
   "cell_type": "code",
   "execution_count": 1,
   "id": "48769aeb-b9c9-4693-821d-3383435cf0e3",
   "metadata": {},
   "outputs": [
    {
     "name": "stdout",
     "output_type": "stream",
     "text": [
      "Total months: 86\n",
      "Total: $38382578\n",
      "Average change: $7895.28\n",
      "Greatest increase in profits: Feb-2012 ($1926159)\n",
      "Greatest decrease in profits: Sep-2013 ($-2196167)\n"
     ]
    }
   ],
   "source": [
    "import csv\n",
    "\n",
    "# Initialize variables\n",
    "total_months = 0\n",
    "net_total = 0\n",
    "avg_change = 0\n",
    "greatest_increase = [\"\", 0]\n",
    "greatest_decrease = [\"\", 9999999999999999999]\n",
    "\n",
    "# Read in the CSV file\n",
    "with open(\"budget_data.csv\", \"r\") as csvfile:\n",
    "    csvreader = csv.reader(csvfile, delimiter=\",\")\n",
    "\n",
    "    # Skip the header row\n",
    "    next(csvreader)\n",
    "\n",
    "    # Keep track of the previous month's profit/loss\n",
    "    prev_pl = 0\n",
    "\n",
    "    # Loop through all the rows in the CSV\n",
    "    for row in csvreader:\n",
    "        total_months += 1\n",
    "        net_total += int(row[1])\n",
    "        \n",
    "        # Calculate the change in profit/loss from the previous month\n",
    "        pl_change = int(row[1]) - prev_pl\n",
    "        \n",
    "        # Update the previous month's profit/loss\n",
    "        prev_pl = int(row[1])\n",
    "        \n",
    "        # Check if this profit/loss change is the greatest increase or decrease so far\n",
    "        if pl_change > greatest_increase[1]:\n",
    "            greatest_increase[0] = row[0]\n",
    "            greatest_increase[1] = pl_change\n",
    "        elif pl_change < greatest_decrease[1]:\n",
    "            greatest_decrease[0] = row[0]\n",
    "            greatest_decrease[1] = pl_change\n",
    "        \n",
    "        # Add this change in profit/loss to the running total\n",
    "        avg_change += pl_change\n",
    "\n",
    "# Calculate the average change in profit/loss\n",
    "avg_change /= total_months - 1\n",
    "\n",
    "# Print the results\n",
    "print(f\"Total months: {total_months}\")\n",
    "print(f\"Total: ${net_total}\")\n",
    "print(f\"Average change: ${avg_change:.2f}\")\n",
    "print(f\"Greatest increase in profits: {greatest_increase[0]} (${greatest_increase[1]})\")\n",
    "print(f\"Greatest decrease in profits: {greatest_decrease[0]} (${greatest_decrease[1]})\")\n"
   ]
  },
  {
   "cell_type": "code",
   "execution_count": null,
   "id": "2b0fee20-270c-483b-9124-3421713f6aaf",
   "metadata": {},
   "outputs": [],
   "source": []
  }
 ],
 "metadata": {
  "kernelspec": {
   "display_name": "Python 3 (ipykernel)",
   "language": "python",
   "name": "python3"
  },
  "language_info": {
   "codemirror_mode": {
    "name": "ipython",
    "version": 3
   },
   "file_extension": ".py",
   "mimetype": "text/x-python",
   "name": "python",
   "nbconvert_exporter": "python",
   "pygments_lexer": "ipython3",
   "version": "3.7.13"
  }
 },
 "nbformat": 4,
 "nbformat_minor": 5
}
